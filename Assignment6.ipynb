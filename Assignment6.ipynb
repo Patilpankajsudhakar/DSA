{
  "nbformat": 4,
  "nbformat_minor": 0,
  "metadata": {
    "colab": {
      "provenance": []
    },
    "kernelspec": {
      "name": "python3",
      "display_name": "Python 3"
    },
    "language_info": {
      "name": "python"
    }
  },
  "cells": [
    {
      "cell_type": "markdown",
      "source": [
        "<aside>\n",
        "💡 **Question 1**\n",
        "\n",
        "A permutation perm of n + 1 integers of all the integers in the range [0, n] can be represented as a string s of length n where:\n",
        "\n",
        "- s[i] == 'I' if perm[i] < perm[i + 1], and\n",
        "- s[i] == 'D' if perm[i] > perm[i + 1].\n",
        "\n",
        "Given a string s, reconstruct the permutation perm and return it. If there are multiple valid permutations perm, return **any of them**.\n",
        "\n",
        "**Example 1:**\n",
        "\n",
        "**Input:** s = \"IDID\"\n",
        "\n",
        "**Output:**\n",
        "\n",
        "[0,4,1,3,2]\n",
        "\n",
        "</aside>\n"
      ],
      "metadata": {
        "id": "Pe6xojTqrUyE"
      }
    },
    {
      "cell_type": "code",
      "execution_count": null,
      "metadata": {
        "colab": {
          "base_uri": "https://localhost:8080/"
        },
        "id": "-TW4i1g9rIwg",
        "outputId": "4ae76ab6-1959-48a9-872d-330376e77a57"
      },
      "outputs": [
        {
          "output_type": "stream",
          "name": "stdout",
          "text": [
            "[0, 5, 1, 4, 2]\n"
          ]
        }
      ],
      "source": [
        "def findPermutation(s):\n",
        "    perm = []\n",
        "    low, high = 0, len(s) + 1\n",
        "\n",
        "    for c in s:\n",
        "        if c == 'I':\n",
        "            perm.append(low)\n",
        "            low += 1\n",
        "        elif c == 'D':\n",
        "            perm.append(high)\n",
        "            high -= 1\n",
        "\n",
        "    perm.append(low)  # or perm.append(high)\n",
        "\n",
        "    return perm\n",
        "\n",
        "# Test the function with the given example\n",
        "s = \"IDID\"\n",
        "result = findPermutation(s)\n",
        "print(result)  # Output: [0, 4, 1, 3, 2]\n"
      ]
    },
    {
      "cell_type": "markdown",
      "source": [
        "\n",
        "Question 2:\n",
        "You are given an m x n integer matrix matrix with the following two properties:\n",
        "\n",
        "- Each row is sorted in non-decreasing order.\n",
        "- The first integer of each row is greater than the last integer of the previous row.\n",
        "\n",
        "Given an integer target, return true *if* target *is in* matrix *or* false *otherwise*.\n",
        "\n",
        "You must write a solution in O(log(m * n)) time complexity.\n",
        "\n",
        "**Example 1:**\n",
        "**Input:** matrix = [[1,3,5,7],[10,11,16,20],[23,30,34,60]], target = 3\n",
        "\n",
        "**Output:** true"
      ],
      "metadata": {
        "id": "3BuDV3N1rvsK"
      }
    },
    {
      "cell_type": "code",
      "source": [
        "def searchMatrix(matrix, target):\n",
        "    m, n = len(matrix), len(matrix[0])\n",
        "    left, right = 0, m * n - 1\n",
        "\n",
        "    while left <= right:\n",
        "        mid = (left + right) // 2\n",
        "        row = mid // n\n",
        "        col = mid % n\n",
        "\n",
        "        if matrix[row][col] == target:\n",
        "            return True\n",
        "        elif matrix[row][col] < target:\n",
        "            left = mid + 1\n",
        "        else:\n",
        "            right = mid - 1\n",
        "\n",
        "    return False\n",
        "\n",
        "# Test the function with the given example\n",
        "matrix = [[1,3,5,7],[10,11,16,20],[23,30,34,60]]\n",
        "target = 3\n",
        "result = searchMatrix(matrix, target)\n",
        "print(result)  # Output: True\n"
      ],
      "metadata": {
        "colab": {
          "base_uri": "https://localhost:8080/"
        },
        "id": "1R2XxdCOrQZj",
        "outputId": "1f9b42bb-fda9-4418-e116-95aa9b00967c"
      },
      "execution_count": null,
      "outputs": [
        {
          "output_type": "stream",
          "name": "stdout",
          "text": [
            "True\n"
          ]
        }
      ]
    },
    {
      "cell_type": "markdown",
      "source": [
        "<aside>\n",
        "💡 **Question 3**\n",
        "\n",
        "Given an array of integers arr, return *true if and only if it is a valid mountain array*.\n",
        "\n",
        "Recall that arr is a mountain array if and only if:\n",
        "\n",
        "- arr.length >= 3\n",
        "- There exists some i with 0 < i < arr.length - 1 such that:\n",
        "    - arr[0] < arr[1] < ... < arr[i - 1] < arr[i]\n",
        "    - arr[i] > arr[i + 1] > ... > arr[arr.length - 1]\n",
        "    **Example 1:**\n",
        "\n",
        "**Input:** arr = [2,1]\n",
        "\n",
        "**Output:**\n",
        "\n",
        "false\n",
        "\n",
        "</aside>"
      ],
      "metadata": {
        "id": "XvI3VZMJsNf8"
      }
    },
    {
      "cell_type": "code",
      "source": [
        "def validMountainArray(arr):\n",
        "    n = len(arr)\n",
        "    if n < 3:\n",
        "        return False\n",
        "\n",
        "    left, right = 0, n - 1\n",
        "\n",
        "    while left < n - 1 and arr[left] < arr[left + 1]:\n",
        "        left += 1\n",
        "\n",
        "    if left == 0 or left == n - 1:\n",
        "        return False\n",
        "\n",
        "    while right > 0 and arr[right - 1] > arr[right]:\n",
        "        right -= 1\n",
        "\n",
        "    return right == left\n",
        "\n",
        "# Test the function with the given example\n",
        "arr = [2, 1]\n",
        "result = validMountainArray(arr)\n",
        "print(result)  # Output: False\n"
      ],
      "metadata": {
        "colab": {
          "base_uri": "https://localhost:8080/"
        },
        "id": "_dXjOgMVsVw8",
        "outputId": "55882ed2-b0b8-4de4-dd39-48cf0ff0ee17"
      },
      "execution_count": null,
      "outputs": [
        {
          "output_type": "stream",
          "name": "stdout",
          "text": [
            "False\n"
          ]
        }
      ]
    },
    {
      "cell_type": "markdown",
      "source": [
        "<aside>\n",
        "💡 **Question 4**\n",
        "\n",
        "Given a binary array nums, return *the maximum length of a contiguous subarray with an equal number of* 0 *and* 1.\n",
        "\n",
        "**Example 1:**\n",
        "\n",
        "**Input:** nums = [0,1]\n",
        "\n",
        "**Output:** 2\n",
        "\n",
        "**Explanation:**\n",
        "\n",
        "[0, 1] is the longest contiguous subarray with an equal number of 0 and 1.\n",
        "\n",
        "</aside>"
      ],
      "metadata": {
        "id": "hjtXbCcNsjDb"
      }
    },
    {
      "cell_type": "code",
      "source": [
        "def findMaxLength(nums):\n",
        "    count_map = {0: -1}\n",
        "    max_len = 0\n",
        "    count = 0\n",
        "\n",
        "    for i in range(len(nums)):\n",
        "        if nums[i] == 1:\n",
        "            count += 1\n",
        "        else:\n",
        "            count -= 1\n",
        "\n",
        "        if count in count_map:\n",
        "            max_len = max(max_len, i - count_map[count])\n",
        "        else:\n",
        "            count_map[count] = i\n",
        "\n",
        "    return max_len\n",
        "\n",
        "# Test the function with the given example\n",
        "nums = [0, 1]\n",
        "result = findMaxLength(nums)\n",
        "print(result)  # Output: 2\n"
      ],
      "metadata": {
        "colab": {
          "base_uri": "https://localhost:8080/"
        },
        "id": "-7GG8vHHsjxZ",
        "outputId": "839cb5c8-14bb-4292-cd33-5e644b2c5ae2"
      },
      "execution_count": null,
      "outputs": [
        {
          "output_type": "stream",
          "name": "stdout",
          "text": [
            "2\n"
          ]
        }
      ]
    },
    {
      "cell_type": "markdown",
      "source": [
        "<aside>\n",
        "💡 **Question 5**\n",
        "\n",
        "The **product sum** of two equal-length arrays a and b is equal to the sum of a[i] * b[i] for all 0 <= i < a.length (**0-indexed**).\n",
        "\n",
        "- For example, if a = [1,2,3,4] and b = [5,2,3,1], the **product sum** would be 1*5 + 2*2 + 3*3 + 4*1 = 22.\n",
        "\n",
        "Given two arrays nums1 and nums2 of length n, return *the **minimum product sum** if you are allowed to **rearrange** the **order** of the elements in* nums1.\n",
        "\n",
        "**Example 1:**\n",
        "\n",
        "**Input:** nums1 = [5,3,4,2], nums2 = [4,2,2,5]\n",
        "\n",
        "**Output:** 40\n",
        "\n",
        "**Explanation:**\n",
        "\n",
        "We can rearrange nums1 to become [3,5,4,2]. The product sum of [3,5,4,2] and [4,2,2,5] is 3*4 + 5*2 + 4*2 + 2*5 = 40.\n",
        "\n",
        "</aside>"
      ],
      "metadata": {
        "id": "OyGJMOdVsqi4"
      }
    },
    {
      "cell_type": "code",
      "source": [
        "def minProductSum(nums1, nums2):\n",
        "    nums1.sort()\n",
        "    nums2.sort(reverse=True)\n",
        "    product_sum = 0\n",
        "\n",
        "    for i in range(len(nums1)):\n",
        "        product_sum += nums1[i] * nums2[i]\n",
        "\n",
        "    return product_sum\n",
        "\n",
        "# Test the function with the given example\n",
        "nums1 = [5, 3, 4, 2]\n",
        "nums2 = [4, 2, 2, 5]\n",
        "result = minProductSum(nums1, nums2)\n",
        "print(result)  # Output: 40\n"
      ],
      "metadata": {
        "colab": {
          "base_uri": "https://localhost:8080/"
        },
        "id": "1lmyuuk1CvOX",
        "outputId": "afc332e4-b837-4338-fc28-225e389fd570"
      },
      "execution_count": null,
      "outputs": [
        {
          "output_type": "stream",
          "name": "stdout",
          "text": [
            "40\n"
          ]
        }
      ]
    },
    {
      "cell_type": "markdown",
      "source": [
        "<aside>\n",
        "💡 **Question 6**\n",
        "\n",
        "An integer array original is transformed into a **doubled** array changed by appending **twice the value** of every element in original, and then randomly **shuffling** the resulting array.\n",
        "\n",
        "Given an array changed, return original *if* changed *is a **doubled** array. If* changed *is not a **doubled** array, return an empty array. The elements in* original *may be returned in **any** order*.\n",
        "\n",
        "**Example 1:**\n",
        "\n",
        "**Input:** changed = [1,3,4,2,6,8]\n",
        "\n",
        "**Output:** [1,3,4]\n",
        "\n",
        "**Explanation:** One possible original array could be [1,3,4]:\n",
        "\n",
        "- Twice the value of 1 is 1 * 2 = 2.\n",
        "- Twice the value of 3 is 3 * 2 = 6.\n",
        "- Twice the value of 4 is 4 * 2 = 8.\n",
        "\n",
        "Other original arrays could be [4,3,1] or [3,1,4].\n",
        "\n",
        "</aside>"
      ],
      "metadata": {
        "id": "yaDuImIICyHm"
      }
    },
    {
      "cell_type": "code",
      "source": [
        "1/2"
      ],
      "metadata": {
        "colab": {
          "base_uri": "https://localhost:8080/"
        },
        "id": "1Z3x9c27GAMT",
        "outputId": "99e28cb9-a900-4acd-d13e-d74042124262"
      },
      "execution_count": null,
      "outputs": [
        {
          "output_type": "execute_result",
          "data": {
            "text/plain": [
              "0.5"
            ]
          },
          "metadata": {},
          "execution_count": 31
        }
      ]
    },
    {
      "cell_type": "code",
      "source": [
        "1%2"
      ],
      "metadata": {
        "colab": {
          "base_uri": "https://localhost:8080/"
        },
        "id": "sOxPFkvAGBm7",
        "outputId": "0cda258f-b6be-41ac-b4ad-b91b8617f49e"
      },
      "execution_count": null,
      "outputs": [
        {
          "output_type": "execute_result",
          "data": {
            "text/plain": [
              "1"
            ]
          },
          "metadata": {},
          "execution_count": 32
        }
      ]
    },
    {
      "cell_type": "code",
      "source": [
        "1//2"
      ],
      "metadata": {
        "colab": {
          "base_uri": "https://localhost:8080/"
        },
        "id": "-YSQN_NiF-Pj",
        "outputId": "49ad4816-73e7-4e87-ffb5-924076e88093"
      },
      "execution_count": null,
      "outputs": [
        {
          "output_type": "execute_result",
          "data": {
            "text/plain": [
              "0"
            ]
          },
          "metadata": {},
          "execution_count": 30
        }
      ]
    },
    {
      "cell_type": "code",
      "source": [
        "# Python program for the above approach\n",
        "\n",
        "# Function to find the original array\n",
        "# from the doubled array\n",
        "def findOriginal(arr):\n",
        "\n",
        "\t# Stores the numbers and\n",
        "\t# their frequency\n",
        "\tnumFreq = {}\n",
        "\n",
        "\t# Add number with their frequencies\n",
        "\t# in the hashmap\n",
        "\tfor i in range(0, len(arr)):\n",
        "\t\tif (arr[i] in numFreq):\n",
        "\t\t\tnumFreq[arr[i]] += 1\n",
        "\t\telse:\n",
        "\t\t\tnumFreq[arr[i]] = 1\n",
        "\n",
        "\t# Sort the array\n",
        "\tarr.sort()\n",
        "\n",
        "\t# Initialize an arraylist\n",
        "\tres = []\n",
        "\n",
        "\tfor i in range(0, len(arr)):\n",
        "\t\n",
        "\t\t# Get the frequency of the number\n",
        "\t\tfreq = numFreq[arr[i]]\n",
        "\t\tif (freq > 0):\n",
        "\t\t\n",
        "\t\t\t# Element is of original array\n",
        "\t\t\tres.append(arr[i])\n",
        "\n",
        "\t\t\t# Decrement the frequency of\n",
        "\t\t\t# the number\n",
        "\t\t\tnumFreq[arr[i]] -= 1\n",
        "\n",
        "\t\t\ttwice = 2 * arr[i]\n",
        "\n",
        "\t\t\t# Decrement the frequency of\n",
        "\t\t\t# the number having double value\n",
        "\t\t\tnumFreq[twice] -= 1\n",
        "\n",
        "\t# Return the resultant string\n",
        "\treturn res\n",
        "\n",
        "# Driver Code\n",
        "changed = [1,3,4,2,6,8]\n",
        "res = findOriginal(changed)\n",
        "\n",
        "# Print the result list\n",
        "for i in range(0, len(res)):\n",
        "\tprint(res[i], end=\" \")\n"
      ],
      "metadata": {
        "colab": {
          "base_uri": "https://localhost:8080/"
        },
        "id": "xcJ6BQObCx4X",
        "outputId": "f7cfb03a-0cda-42c3-9d83-4fd9bf4c30a5"
      },
      "execution_count": 18,
      "outputs": [
        {
          "output_type": "stream",
          "name": "stdout",
          "text": [
            "1 3 4 "
          ]
        }
      ]
    },
    {
      "cell_type": "markdown",
      "source": [
        "💡 **Question 7**\n",
        "\n",
        "Given a positive integer n, generate an n x n matrix filled with elements from 1 to n2 in spiral order.\n",
        "\n",
        "**Example 1:**\n",
        "**Input:** n = 3\n",
        "\n",
        "**Output:** [[1,2,3],[8,9,4],[7,6,5]]"
      ],
      "metadata": {
        "id": "hDXt823gszg2"
      }
    },
    {
      "cell_type": "code",
      "source": [
        "# python3 program for the above approach\n",
        "\n",
        "\n",
        "def spiralOrder(matrix):\n",
        "\tans = []\n",
        "\n",
        "\tif (len(matrix) == 0):\n",
        "\t\treturn ans\n",
        "\n",
        "\tm = len(matrix)\n",
        "\tn = len(matrix[0])\n",
        "\tseen = [[0 for i in range(n)] for j in range(m)]\n",
        "\tdr = [0, 1, 0, -1]\n",
        "\tdc = [1, 0, -1, 0]\n",
        "\tx = 0\n",
        "\ty = 0\n",
        "\tdi = 0\n",
        "\n",
        "\t# Iterate from 0 to R * C - 1\n",
        "\tfor i in range(m * n):\n",
        "\t\tans.append(matrix[x][y])\n",
        "\t\tseen[x][y] = True\n",
        "\t\tcr = x + dr[di]\n",
        "\t\tcc = y + dc[di]\n",
        "\n",
        "\t\tif (0 <= cr and cr < m and 0 <= cc and cc < n and not(seen[cr][cc])):\n",
        "\t\t\tx = cr\n",
        "\t\t\ty = cc\n",
        "\t\telse:\n",
        "\t\t\tdi = (di + 1) % 4\n",
        "\t\t\tx += dr[di]\n",
        "\t\t\ty += dc[di]\n",
        "\treturn ans\n",
        "\n",
        "\n",
        "# Driver code\n",
        "if __name__ == \"__main__\":\n",
        "\ta = [[1, 2, 3,],\n",
        "\t\t[8,9,4],\n",
        "\t\t[7,6,5]]\n",
        "\n",
        "\t# Function call\n",
        "\tfor x in spiralOrder(a):\n",
        "\t\tprint(x, end=\" \")\n",
        "\tprint()\n"
      ],
      "metadata": {
        "colab": {
          "base_uri": "https://localhost:8080/"
        },
        "id": "0R5JMKUvs8nG",
        "outputId": "7c730b8b-d7f8-4ff9-f1bc-953838a0e7da"
      },
      "execution_count": 20,
      "outputs": [
        {
          "output_type": "stream",
          "name": "stdout",
          "text": [
            "1 2 3 4 5 6 7 8 9 \n"
          ]
        }
      ]
    },
    {
      "cell_type": "markdown",
      "source": [
        "<aside>\n",
        "💡 **Question 8**\n",
        "\n",
        "Given two [sparse matrices](https://en.wikipedia.org/wiki/Sparse_matrix) mat1 of size m x k and mat2 of size k x n, return the result of mat1 x mat2. You may assume that multiplication is always possible.\n",
        "Example 1:\n",
        "**Input:** mat1 = [[1,0,0],[-1,0,3]], mat2 = [[7,0,0],[0,0,0],[0,0,1]]\n",
        "\n",
        "**Output:**\n",
        "\n",
        "[[7,0,0],[-7,0,3]]\n",
        "</aside>"
      ],
      "metadata": {
        "id": "BAtcJT5Ltb4O"
      }
    },
    {
      "cell_type": "code",
      "source": [
        "from collections import defaultdict"
      ],
      "metadata": {
        "id": "hosOXnfTu9LI"
      },
      "execution_count": 30,
      "outputs": []
    },
    {
      "cell_type": "code",
      "source": [
        "class Solution:\n",
        "    def multiply(self, mat1, mat2):\n",
        "        r1, c1, c2 = len(mat1), len(mat1[0]), len(mat2[0])\n",
        "        res = [[0] * c2 for _ in range(r1)]\n",
        "        mp = defaultdict(list)\n",
        "        for i in range(r1):\n",
        "            for j in range(c1):\n",
        "                if mat1[i][j] != 0:\n",
        "                    mp[i].append(j)\n",
        "        for i in range(r1):\n",
        "            for j in range(c2):\n",
        "                for k in mp[i]:\n",
        "                    res[i][j] += mat1[i][k] * mat2[k][j]\n",
        "        return res\n",
        "a=Solution()\n",
        "a.multiply( [[1,0,0],[-1,0,3]],[[7,0,0],[0,0,0],[0,0,1]])"
      ],
      "metadata": {
        "colab": {
          "base_uri": "https://localhost:8080/"
        },
        "id": "XCIli346tbku",
        "outputId": "7913c1fe-007a-4562-dd86-a57b4ac27d2f"
      },
      "execution_count": 31,
      "outputs": [
        {
          "output_type": "execute_result",
          "data": {
            "text/plain": [
              "[[7, 0, 0], [-7, 0, 3]]"
            ]
          },
          "metadata": {},
          "execution_count": 31
        }
      ]
    }
  ]
}