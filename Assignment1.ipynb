{
  "nbformat": 4,
  "nbformat_minor": 0,
  "metadata": {
    "colab": {
      "provenance": []
    },
    "kernelspec": {
      "name": "python3",
      "display_name": "Python 3"
    },
    "language_info": {
      "name": "python"
    }
  },
  "cells": [
    {
      "cell_type": "markdown",
      "source": [
        "Q1. Given an array of integers nums and an integer target, return indices of the two numbers such that they add up to target.\n",
        "\n",
        "You may assume that each input would have exactly one solution, and you may not use the same element twice.\n",
        "\n",
        "You can return the answer in any order.\n",
        "\n",
        "**Example:**\n",
        "Input: nums = [2,7,11,15], target = 9\n",
        "Output0 [0,1]\n",
        "\n",
        "**Explanation:** Because nums[0] + nums[1] == 9, we return [0, 1][\n",
        "\n"
      ],
      "metadata": {
        "id": "3dUn_B-EkLdG"
      }
    },
    {
      "cell_type": "code",
      "execution_count": 2,
      "metadata": {
        "colab": {
          "base_uri": "https://localhost:8080/"
        },
        "id": "uhCyI2HjkDev",
        "outputId": "5ceb9e56-e914-4819-b9cf-c61b13cdbfdd"
      },
      "outputs": [
        {
          "output_type": "stream",
          "name": "stdout",
          "text": [
            "[0, 1]\n",
            "[0, 1]\n"
          ]
        }
      ],
      "source": [
        "def twoSum(nums, target):\n",
        "    num_dict = {}  # Dictionary to store numbers and their indices\n",
        "    for i, num in enumerate(nums):\n",
        "        complement = target - num\n",
        "        if complement in num_dict:\n",
        "            return [num_dict[complement], i]\n",
        "        \n",
        "        num_dict[num] = i\n",
        "    \n",
        "    # If no solution is found, return an empty list\n",
        "    return []\n",
        "\n",
        "# Example usage\n",
        "nums = [2, 7, 11, 15]\n",
        "target = 9\n",
        "result = twoSum(nums, target)\n",
        "print(result)  # Output: [0, 1]\n",
        "\n",
        "# Test 1\n",
        "nums = [2, 6, 6, 10]\n",
        "target = 8\n",
        "result = twoSum(nums, target)\n",
        "print(result)"
      ]
    },
    {
      "cell_type": "markdown",
      "source": [
        "\n",
        "💡 **Q2.** Given an integer array nums and an integer val, remove all occurrences of val in nums in-place. The order of the elements may be changed. Then return the number of elements in nums which are not equal to val.\n",
        "\n",
        "Consider the number of elements in nums which are not equal to val be k, to get accepted, you need to do the following things:\n",
        "\n",
        "- Change the array nums such that the first k elements of nums contain the elements which are not equal to val. The remaining elements of nums are not important as well as the size of nums.\n",
        "- Return k.\n",
        "\n",
        "**Example :**\n",
        "Input: nums = [3,2,2,3], val = 3\n",
        "Output: 2, nums = [2,2,_*,_*]\n",
        "\n",
        "**Explanation:** Your function should return k = 2, with the first two elements of nums being 2. It does not matter what you leave beyond the returned k (hence they are underscores)[\n"
      ],
      "metadata": {
        "id": "uxjMnb6Okpkm"
      }
    },
    {
      "cell_type": "code",
      "source": [
        "def removeElement(nums, val):\n",
        "    i = 0  # Current position\n",
        "    j = 0  # Index to place non-val elements\n",
        "    \n",
        "    while i < len(nums):\n",
        "        if nums[i] != val:\n",
        "            nums[j] = nums[i]\n",
        "            j += 1\n",
        "        i += 1\n",
        "    \n",
        "    return j\n",
        "\n",
        "# Example usage\n",
        "nums = [3, 2, 2, 3]\n",
        "val = 3\n",
        "k = removeElement(nums, val)\n",
        "print(k)  # Output: 2\n",
        "print(nums)\n"
      ],
      "metadata": {
        "colab": {
          "base_uri": "https://localhost:8080/"
        },
        "id": "Qw9CUnYfko_e",
        "outputId": "5a5e8b3a-5492-4bef-9a84-0f80f1d1c56e"
      },
      "execution_count": 3,
      "outputs": [
        {
          "output_type": "stream",
          "name": "stdout",
          "text": [
            "2\n",
            "[2, 2, 2, 3]\n"
          ]
        }
      ]
    },
    {
      "cell_type": "markdown",
      "source": [
        "\n",
        "Q3. Given a sorted array of distinct integers and a target value, return the index if the target is found. If not, return the index where it would be if it were inserted in order.\n",
        "\n",
        "You must write an algorithm with O(log n) runtime complexity.\n",
        "\n",
        "**Example 1:**\n",
        "Input: nums = [1,3,5,6], target = 5\n",
        "\n",
        "Output: 2\n"
      ],
      "metadata": {
        "id": "wxIT4ux-lBtF"
      }
    },
    {
      "cell_type": "code",
      "source": [
        "def searchInsert(nums, target):\n",
        "    left = 0\n",
        "    right = len(nums) - 1\n",
        "    \n",
        "    while left <= right:\n",
        "        mid = left + (right - left) // 2\n",
        "        \n",
        "        if nums[mid] == target:\n",
        "            return mid\n",
        "        elif nums[mid] < target:\n",
        "            left = mid + 1\n",
        "        else:\n",
        "            right = mid - 1\n",
        "    \n",
        "    return left\n",
        "\n",
        "# Example usage\n",
        "nums = [1, 3, 5, 6]\n",
        "target = 5\n",
        "index = searchInsert(nums, target)\n",
        "print(index)  # Output: 2\n"
      ],
      "metadata": {
        "colab": {
          "base_uri": "https://localhost:8080/"
        },
        "id": "4IiaCcollBa4",
        "outputId": "54cfaeb8-88ce-42af-a607-f00326a519ea"
      },
      "execution_count": 4,
      "outputs": [
        {
          "output_type": "stream",
          "name": "stdout",
          "text": [
            "2\n"
          ]
        }
      ]
    },
    {
      "cell_type": "markdown",
      "source": [
        "\n",
        "💡 **Q4.** You are given a large integer represented as an integer array digits, where each digits[i] is the ith digit of the integer. The digits are ordered from most significant to least significant in left-to-right order. The large integer does not contain any leading 0's.\n",
        "\n",
        "Increment the large integer by one and return the resulting array of digits.\n",
        "\n",
        "**Example 1:**\n",
        "Input: digits = [1,2,3]\n",
        "Output: [1,2,4]\n",
        "\n",
        "**Explanation:** The array represents the integer 123.\n",
        "\n",
        "Incrementing by one gives 123 + 1 = 124.\n",
        "Thus, the result should be [1,2,4].\n"
      ],
      "metadata": {
        "id": "u6iofLaflW7V"
      }
    },
    {
      "cell_type": "code",
      "source": [
        "def plusOne(digits):\n",
        "    n = len(digits)\n",
        "    \n",
        "    for i in range(n - 1, -1, -1):\n",
        "        if digits[i] < 9:\n",
        "            digits[i] += 1\n",
        "            return digits\n",
        "        else:\n",
        "            digits[i] = 0\n",
        "    \n",
        "    # If we reach here, all digits are 9, so create a new array\n",
        "    new_digits = [0] * (n + 1)\n",
        "    new_digits[0] = 1\n",
        "    \n",
        "    return new_digits\n",
        "\n",
        "# Example usage\n",
        "digits = [1, 2, 3]\n",
        "result = plusOne(digits)\n",
        "print(result)  # Output: [1, 2, 4]\n"
      ],
      "metadata": {
        "colab": {
          "base_uri": "https://localhost:8080/"
        },
        "id": "v9UpcLjLlXjF",
        "outputId": "e14eb50d-dbda-4041-ba10-914e5accbc1c"
      },
      "execution_count": 5,
      "outputs": [
        {
          "output_type": "stream",
          "name": "stdout",
          "text": [
            "[1, 2, 4]\n"
          ]
        }
      ]
    },
    {
      "cell_type": "markdown",
      "source": [
        "\n",
        "💡 **Q5.** You are given two integer arrays nums1 and nums2, sorted in non-decreasing order, and two integers m and n, representing the number of elements in nums1 and nums2 respectively.\n",
        "\n",
        "Merge nums1 and nums2 into a single array sorted in non-decreasing order.\n",
        "\n",
        "The final sorted array should not be returned by the function, but instead be stored inside the array nums1. To accommodate this, nums1 has a length of m + n, where the first m elements denote the elements that should be merged, and the last n elements are set to 0 and should be ignored. nums2 has a length of n.\n",
        "\n",
        "**Example 1:**\n",
        "Input: nums1 = [1,2,3,0,0,0], m = 3, nums2 = [2,5,6], n = 3\n",
        "Output: [1,2,2,3,5,6]\n",
        "\n",
        "**Explanation:** The arrays we are merging are [1,2,3] and [2,5,6].\n",
        "The result of the merge is [1,2,2,3,5,6] with the underlined elements coming from nums1.\n"
      ],
      "metadata": {
        "id": "vlqUFchwlzSN"
      }
    },
    {
      "cell_type": "code",
      "source": [
        "def merge(nums1, m, nums2, n):\n",
        "    i = m - 1\n",
        "    j = n - 1\n",
        "    k = m + n - 1\n",
        "    \n",
        "    while i >= 0 and j >= 0:\n",
        "        if nums1[i] > nums2[j]:\n",
        "            nums1[k] = nums1[i]\n",
        "            i -= 1\n",
        "        else:\n",
        "            nums1[k] = nums2[j]\n",
        "            j -= 1\n",
        "        k -= 1\n",
        "    \n",
        "    while j >= 0:\n",
        "        nums1[k] = nums2[j]\n",
        "        j -= 1\n",
        "        k -= 1\n",
        "\n",
        "# Example usage\n",
        "nums1 = [1, 2, 3, 0, 0, 0]\n",
        "m = 3\n",
        "nums2 = [2, 5, 6]\n",
        "n = 3\n",
        "merge(nums1, m, nums2, n)\n",
        "print(nums1)  # Output: [1, 2, 2, 3, 5, 6]\n"
      ],
      "metadata": {
        "colab": {
          "base_uri": "https://localhost:8080/"
        },
        "id": "7rhvuUPalzyc",
        "outputId": "97b008dd-8b70-4086-dca2-1f5b4f50fd53"
      },
      "execution_count": 6,
      "outputs": [
        {
          "output_type": "stream",
          "name": "stdout",
          "text": [
            "[1, 2, 2, 3, 5, 6]\n"
          ]
        }
      ]
    },
    {
      "cell_type": "markdown",
      "source": [
        "\n",
        "💡 **Q6.** Given an integer array nums, return true if any value appears at least twice in the array, and return false if every element is distinct.\n",
        "\n",
        "**Example 1:**\n",
        "Input: nums = [1,2,3,1]\n",
        "\n",
        "Output: true\n",
        "\n"
      ],
      "metadata": {
        "id": "3XBCgrfcl9tX"
      }
    },
    {
      "cell_type": "code",
      "source": [
        "def containsDuplicate(nums):\n",
        "    seen = set()\n",
        "    \n",
        "    for num in nums:\n",
        "        if num in seen:\n",
        "            return True\n",
        "        seen.add(num)\n",
        "    \n",
        "    return False\n",
        "\n",
        "# Example usage\n",
        "nums = [1, 2, 3, 1]\n",
        "result = containsDuplicate(nums)\n",
        "print(result)  # Output: True\n"
      ],
      "metadata": {
        "colab": {
          "base_uri": "https://localhost:8080/"
        },
        "id": "LDTe4N5Al-G9",
        "outputId": "b359274f-fda7-4465-a162-c87d8774ab4b"
      },
      "execution_count": 7,
      "outputs": [
        {
          "output_type": "stream",
          "name": "stdout",
          "text": [
            "True\n"
          ]
        }
      ]
    },
    {
      "cell_type": "markdown",
      "source": [
        "\n",
        "💡 **Q7.** Given an integer array nums, move all 0's to the end of it while maintaining the relative order of the nonzero elements.\n",
        "\n",
        "Note that you must do this in-place without making a copy of the array.\n",
        "\n",
        "**Example 1:**\n",
        "Input: nums = [0,1,0,3,12]\n",
        "Output: [1,3,12,0,0]\n",
        "\n"
      ],
      "metadata": {
        "id": "Le8NK7qFmCll"
      }
    },
    {
      "cell_type": "code",
      "source": [
        "def moveZeroes(nums):\n",
        "    non_zero = 0\n",
        "    \n",
        "    for i in range(len(nums)):\n",
        "        if nums[i] != 0:\n",
        "            nums[non_zero] = nums[i]\n",
        "            non_zero += 1\n",
        "    \n",
        "    while non_zero < len(nums):\n",
        "        nums[non_zero] = 0\n",
        "        non_zero += 1\n",
        "\n",
        "# Example usage\n",
        "nums = [0, 1, 0, 3, 12]\n",
        "moveZeroes(nums)\n",
        "print(nums)  # Output: [1, 3, 12, 0, 0]\n"
      ],
      "metadata": {
        "colab": {
          "base_uri": "https://localhost:8080/"
        },
        "id": "OFMT_s23mC9L",
        "outputId": "1418972f-af20-4912-93ac-8158266ad902"
      },
      "execution_count": 9,
      "outputs": [
        {
          "output_type": "stream",
          "name": "stdout",
          "text": [
            "[1, 3, 12, 0, 0]\n"
          ]
        }
      ]
    },
    {
      "cell_type": "markdown",
      "source": [
        "\n",
        "💡 **Q8.** You have a set of integers s, which originally contains all the numbers from 1 to n. Unfortunately, due to some error, one of the numbers in s got duplicated to another number in the set, which results in repetition of one number and loss of another number.\n",
        "\n",
        "You are given an integer array nums representing the data status of this set after the error.\n",
        "\n",
        "Find the number that occurs twice and the number that is missing and return them in the form of an array.\n",
        "\n",
        "**Example 1:**\n",
        "Input: nums = [1,2,2,4]\n",
        "Output: [2,3]\n"
      ],
      "metadata": {
        "id": "WuWeToSomaWk"
      }
    },
    {
      "cell_type": "code",
      "source": [
        "def findErrorNums(nums):\n",
        "    n = len(nums)\n",
        "    num_set = set()\n",
        "    duplicate = -1\n",
        "    \n",
        "    for num in nums:\n",
        "        if num in num_set:\n",
        "            duplicate = num\n",
        "        else:\n",
        "            num_set.add(num)\n",
        "    \n",
        "    missing = sum(range(1, n + 1)) - sum(nums)\n",
        "    \n",
        "    return [duplicate, missing]\n",
        "\n",
        "# Example usage\n",
        "nums = [1, 2, 2, 4]\n",
        "result = findErrorNums(nums)\n",
        "print(result)  # Output: [2, 3]\n"
      ],
      "metadata": {
        "colab": {
          "base_uri": "https://localhost:8080/"
        },
        "id": "efWR24MymaLL",
        "outputId": "33709c2b-7e02-45c1-bc91-8526e42cee16"
      },
      "execution_count": 10,
      "outputs": [
        {
          "output_type": "stream",
          "name": "stdout",
          "text": [
            "[2, 1]\n"
          ]
        }
      ]
    }
  ]
}