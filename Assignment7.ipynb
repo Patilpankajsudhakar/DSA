{
  "nbformat": 4,
  "nbformat_minor": 0,
  "metadata": {
    "colab": {
      "provenance": []
    },
    "kernelspec": {
      "name": "python3",
      "display_name": "Python 3"
    },
    "language_info": {
      "name": "python"
    }
  },
  "cells": [
    {
      "cell_type": "markdown",
      "source": [
        "<aside>\n",
        "💡 **Question 1**\n",
        "\n",
        "Given two strings s and t, *determine if they are isomorphic*.\n",
        "\n",
        "Two strings s and t are isomorphic if the characters in s can be replaced to get t.\n",
        "\n",
        "All occurrences of a character must be replaced with another character while preserving the order of characters. No two characters may map to the same character, but a character may map to itself.\n",
        "\n",
        "**Example 1:**\n",
        "\n",
        "**Input:** s = \"egg\", t = \"add\"\n",
        "\n",
        "**Output:** true\n",
        "\n",
        "</aside>"
      ],
      "metadata": {
        "id": "NmCaAaFQYsDc"
      }
    },
    {
      "cell_type": "code",
      "execution_count": 1,
      "metadata": {
        "colab": {
          "base_uri": "https://localhost:8080/"
        },
        "id": "Vs2TrvbiYmeM",
        "outputId": "37c75d16-47e0-4c14-eda2-6e092185b455"
      },
      "outputs": [
        {
          "output_type": "stream",
          "name": "stdout",
          "text": [
            "True\n"
          ]
        }
      ],
      "source": [
        "def isIsomorphic(s, t):\n",
        "    if len(s) != len(t):\n",
        "        return False\n",
        "\n",
        "    s_to_t = {}\n",
        "    t_to_s = {}\n",
        "\n",
        "    for i in range(len(s)):\n",
        "        if (s[i] in s_to_t and s_to_t[s[i]] != t[i]) or (t[i] in t_to_s and t_to_s[t[i]] != s[i]):\n",
        "            return False\n",
        "        if s[i] not in s_to_t:\n",
        "            s_to_t[s[i]] = t[i]\n",
        "        if t[i] not in t_to_s:\n",
        "            t_to_s[t[i]] = s[i]\n",
        "\n",
        "    return True\n",
        "\n",
        "# Test the function with the given example\n",
        "s = \"egg\"\n",
        "t = \"add\"\n",
        "result = isIsomorphic(s, t)\n",
        "print(result) \n"
      ]
    },
    {
      "cell_type": "markdown",
      "source": [
        "<aside>\n",
        "💡 **Question 2**\n",
        "\n",
        "Given a string num which represents an integer, return true *if* num *is a **strobogrammatic number***.\n",
        "\n",
        "A **strobogrammatic number** is a number that looks the same when rotated 180 degrees (looked at upside down).\n",
        "\n",
        "**Example 1:**\n",
        "\n",
        "**Input:** num = \"69\"\n",
        "\n",
        "**Output:**\n",
        "\n",
        "true\n",
        "\n",
        "</aside>"
      ],
      "metadata": {
        "id": "Fqmh6s8HZejL"
      }
    },
    {
      "cell_type": "code",
      "source": [
        "def isStrobogrammatic(num):\n",
        "    strobogrammatic = {\n",
        "        '0': '0',\n",
        "        '1': '1',\n",
        "        '6': '9',\n",
        "        '8': '8',\n",
        "        '9': '6'\n",
        "    }\n",
        "\n",
        "    left = 0\n",
        "    right = len(num) - 1\n",
        "\n",
        "    while left <= right:\n",
        "        if num[left] not in strobogrammatic or strobogrammatic[num[left]] != num[right]:\n",
        "            return False\n",
        "        left += 1\n",
        "        right -= 1\n",
        "\n",
        "    return True\n",
        "\n",
        "# Test the function with the given example\n",
        "num = \"69\"\n",
        "result = isStrobogrammatic(num)\n",
        "print(result) \n"
      ],
      "metadata": {
        "colab": {
          "base_uri": "https://localhost:8080/"
        },
        "id": "CpHXIY0zZfE7",
        "outputId": "648d32f8-c675-4d1a-d3a9-854434893818"
      },
      "execution_count": 2,
      "outputs": [
        {
          "output_type": "stream",
          "name": "stdout",
          "text": [
            "True\n"
          ]
        }
      ]
    },
    {
      "cell_type": "markdown",
      "source": [
        "<aside>\n",
        "💡 **Question 3**\n",
        "\n",
        "Given two non-negative integers, num1 and num2 represented as string, return *the sum of* num1 *and* num2 *as a string*.\n",
        "\n",
        "You must solve the problem without using any built-in library for handling large integers (such as BigInteger). You must also not convert the inputs to integers directly.\n",
        "\n",
        "**Example 1:**\n",
        "\n",
        "**Input:** num1 = \"11\", num2 = \"123\"\n",
        "\n",
        "**Output:**\n",
        "\n",
        "\"134\"\n",
        "\n",
        "</aside>"
      ],
      "metadata": {
        "id": "XSqMfJ7VZoGS"
      }
    },
    {
      "cell_type": "code",
      "source": [
        "def addStrings(num1, num2):\n",
        "    i = len(num1) - 1\n",
        "    j = len(num2) - 1\n",
        "    carry = 0\n",
        "    result = \"\"\n",
        "\n",
        "    while i >= 0 or j >= 0:\n",
        "        digit_sum = carry + int(num1[i]) if i >= 0 else carry\n",
        "        digit_sum += int(num2[j]) if j >= 0 else 0\n",
        "        carry = digit_sum // 10\n",
        "        result = str(digit_sum % 10) + result\n",
        "        i -= 1\n",
        "        j -= 1\n",
        "\n",
        "    if carry > 0:\n",
        "        result = str(carry) + result\n",
        "\n",
        "    return result\n",
        "\n",
        "# Test the function with the given example\n",
        "num1 = \"11\"\n",
        "num2 = \"123\"\n",
        "result = addStrings(num1, num2)\n",
        "print(result)\n"
      ],
      "metadata": {
        "colab": {
          "base_uri": "https://localhost:8080/"
        },
        "id": "mlec30zBZtZj",
        "outputId": "cdb9e0a6-ae1e-4ba6-a629-a6de43137ae7"
      },
      "execution_count": 3,
      "outputs": [
        {
          "output_type": "stream",
          "name": "stdout",
          "text": [
            "134\n"
          ]
        }
      ]
    },
    {
      "cell_type": "markdown",
      "source": [
        "<aside>\n",
        "💡 **Question 4**\n",
        "\n",
        "Given a string s, reverse the order of characters in each word within a sentence while still preserving whitespace and initial word order.\n",
        "\n",
        "**Example 1:**\n",
        "\n",
        "**Input:** s = \"Let's take LeetCode contest\"\n",
        "\n",
        "**Output:** \"s'teL ekat edoCteeL tsetnoc\n",
        "\n",
        "</aside>"
      ],
      "metadata": {
        "id": "abkIUSgTZ9JI"
      }
    },
    {
      "cell_type": "code",
      "source": [
        "def reverseWords(s):\n",
        "    words = s.split()  # Split the string into a list of words\n",
        "    reversed_words = [word[::-1] for word in words]  # Reverse each word\n",
        "    return \" \".join(reversed_words)  # Join the reversed words into a string\n",
        "\n",
        "# Test the function with the given example\n",
        "s = \"Let's take LeetCode contest\"\n",
        "result = reverseWords(s)\n",
        "print(result)  \n"
      ],
      "metadata": {
        "colab": {
          "base_uri": "https://localhost:8080/"
        },
        "id": "LPeCoI5qZ5Xz",
        "outputId": "989a9e0b-e92e-4712-91cc-4999dbac56f1"
      },
      "execution_count": 4,
      "outputs": [
        {
          "output_type": "stream",
          "name": "stdout",
          "text": [
            "s'teL ekat edoCteeL tsetnoc\n"
          ]
        }
      ]
    },
    {
      "cell_type": "markdown",
      "source": [
        "<aside>\n",
        "💡 **Question 5**\n",
        "\n",
        "Given a string s and an integer k, reverse the first k characters for every 2k characters counting from the start of the string.\n",
        "\n",
        "If there are fewer than k characters left, reverse all of them. If there are less than 2k but greater than or equal to k characters, then reverse the first k characters and leave the other as original.\n",
        "\n",
        "**Example 1:**\n",
        "\n",
        "**Input:** s = \"abcdefg\", k = 2\n",
        "\n",
        "**Output:**\n",
        "\n",
        "\"bacdfeg\"\n",
        "\n",
        "</aside>"
      ],
      "metadata": {
        "id": "m2fQs_9haKsD"
      }
    },
    {
      "cell_type": "code",
      "source": [
        "def reverseStr(s, k):\n",
        "    chars = list(s)  # Convert the string into a list of characters\n",
        "    for i in range(0, len(chars), 2 * k):\n",
        "        # Reverse the first k characters if there are at least k characters remaining\n",
        "        if i + k <= len(chars):\n",
        "            chars[i:i+k] = reversed(chars[i:i+k])\n",
        "    return \"\".join(chars)  # Join the modified list of characters into a string\n",
        "\n",
        "# Test the function with the given example\n",
        "s = \"abcdefg\"\n",
        "k = 2\n",
        "result = reverseStr(s, k)\n",
        "print(result) \n"
      ],
      "metadata": {
        "colab": {
          "base_uri": "https://localhost:8080/"
        },
        "id": "twaz9NKFaKXL",
        "outputId": "eee6bbdc-a3df-4965-9fd2-59a2137171a3"
      },
      "execution_count": 5,
      "outputs": [
        {
          "output_type": "stream",
          "name": "stdout",
          "text": [
            "bacdfeg\n"
          ]
        }
      ]
    },
    {
      "cell_type": "markdown",
      "source": [
        "<aside>\n",
        "💡 **Question 6**\n",
        "\n",
        "Given two strings s and goal, return true *if and only if* s *can become* goal *after some number of **shifts** on* s.\n",
        "\n",
        "A **shift** on s consists of moving the leftmost character of s to the rightmost position.\n",
        "\n",
        "- For example, if s = \"abcde\", then it will be \"bcdea\" after one shift.\n",
        "\n",
        "**Example 1:**\n",
        "\n",
        "**Input:** s = \"abcde\", goal = \"cdeab\"\n",
        "\n",
        "**Output:**\n",
        "\n",
        "true\n",
        "\n",
        "</aside>"
      ],
      "metadata": {
        "id": "4MF4wI5bag2r"
      }
    },
    {
      "cell_type": "code",
      "source": [
        "def rotateString(s, goal):\n",
        "    if len(s) != len(goal):\n",
        "        return False\n",
        "    return goal in s + s\n",
        "\n",
        "# Test the function with the given example\n",
        "s = \"abcde\"\n",
        "goal = \"cdeab\"\n",
        "result = rotateString(s, goal)\n",
        "print(result)  \n"
      ],
      "metadata": {
        "colab": {
          "base_uri": "https://localhost:8080/"
        },
        "id": "-50XtwduakqD",
        "outputId": "d6c3da40-2ec0-4348-9995-a53e4fb94790"
      },
      "execution_count": 6,
      "outputs": [
        {
          "output_type": "stream",
          "name": "stdout",
          "text": [
            "True\n"
          ]
        }
      ]
    },
    {
      "cell_type": "markdown",
      "source": [
        "<aside>\n",
        "💡 **Question 7**\n",
        "\n",
        "Given two strings s and t, return true *if they are equal when both are typed into empty text editors*. '#' means a backspace character.\n",
        "\n",
        "Note that after backspacing an empty text, the text will continue empty.\n",
        "\n",
        "**Example 1:**\n",
        "\n",
        "**Input:** s = \"ab#c\", t = \"ad#c\"\n",
        "\n",
        "**Output:** true\n",
        "\n",
        "**Explanation:**\n",
        "\n",
        "Both s and t become \"ac\".\n",
        "\n",
        "</aside>"
      ],
      "metadata": {
        "id": "sQZA4FfKa8Pq"
      }
    },
    {
      "cell_type": "code",
      "source": [
        "def processBackspace(string):\n",
        "    typed = []\n",
        "    for char in string:\n",
        "        if char != '#':\n",
        "            typed.append(char)\n",
        "        elif typed:\n",
        "            typed.pop()\n",
        "    return ''.join(typed)\n",
        "\n",
        "def backspaceCompare(s, t):\n",
        "    return processBackspace(s) == processBackspace(t)\n",
        "\n",
        "# Test the function with the given example\n",
        "s = \"ab#c\"\n",
        "t = \"ad#c\"\n",
        "result = backspaceCompare(s, t)\n",
        "print(result)  # Output: True\n"
      ],
      "metadata": {
        "colab": {
          "base_uri": "https://localhost:8080/"
        },
        "id": "4PwFs_fFazEa",
        "outputId": "8ed0f25f-896b-445a-d130-bc809b574ccd"
      },
      "execution_count": 7,
      "outputs": [
        {
          "output_type": "stream",
          "name": "stdout",
          "text": [
            "True\n"
          ]
        }
      ]
    },
    {
      "cell_type": "markdown",
      "source": [
        "<aside>\n",
        "💡 **Question 8**\n",
        "\n",
        "You are given an array coordinates, coordinates[i] = [x, y], where [x, y] represents the coordinate of a point. Check if these points make a straight line in the XY plane.\n",
        "\n",
        "**Example 1:**\n",
        "**Input:** coordinates = [[1,2],[2,3],[3,4],[4,5],[5,6],[6,7]]\n",
        "\n",
        "**Output:** true\n",
        "</aside>"
      ],
      "metadata": {
        "id": "edranOVxbS9j"
      }
    },
    {
      "cell_type": "code",
      "source": [
        "def checkStraightLine(coordinates):\n",
        "    # Special case: If the line is vertical\n",
        "    if coordinates[1][0] - coordinates[0][0] == 0:\n",
        "        x = coordinates[0][0]\n",
        "        for i in range(2, len(coordinates)):\n",
        "            if coordinates[i][0] != x:\n",
        "                return False\n",
        "        return True\n",
        "\n",
        "    # Calculate the slope between first two points\n",
        "    slope = (coordinates[1][1] - coordinates[0][1]) / (coordinates[1][0] - coordinates[0][0])\n",
        "\n",
        "    # Check the slope between every pair of consecutive points\n",
        "    for i in range(2, len(coordinates)):\n",
        "        curr_slope = (coordinates[i][1] - coordinates[i-1][1]) / (coordinates[i][0] - coordinates[i-1][0])\n",
        "        if curr_slope != slope:\n",
        "            return False\n",
        "\n",
        "    return True\n",
        "\n",
        "# Test the function with the given example\n",
        "coordinates = [[1,2],[2,3],[3,4],[4,5],[5,6],[6,7]]\n",
        "result = checkStraightLine(coordinates)\n",
        "print(result)\n"
      ],
      "metadata": {
        "colab": {
          "base_uri": "https://localhost:8080/"
        },
        "id": "26vA15QVbWka",
        "outputId": "4e965ee9-f8df-4435-f266-8b13dae35c08"
      },
      "execution_count": 9,
      "outputs": [
        {
          "output_type": "stream",
          "name": "stdout",
          "text": [
            "True\n"
          ]
        }
      ]
    }
  ]
}