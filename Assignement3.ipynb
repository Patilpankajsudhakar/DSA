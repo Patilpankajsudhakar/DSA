{
  "nbformat": 4,
  "nbformat_minor": 0,
  "metadata": {
    "colab": {
      "provenance": []
    },
    "kernelspec": {
      "name": "python3",
      "display_name": "Python 3"
    },
    "language_info": {
      "name": "python"
    }
  },
  "cells": [
    {
      "cell_type": "markdown",
      "source": [
        "Question 1\n",
        "Given an integer array nums of length n and an integer target, find three integers\n",
        "in nums such that the sum is closest to the target.\n",
        "Return the sum of the three integers.\n",
        "\n",
        "You may assume that each input would have exactly one solution.\n",
        "\n",
        "Example 1:\n",
        "Input: nums = [-1,2,1,-4], target = 1\n",
        "Output: 2\n",
        "\n",
        "Explanation: The sum that is closest to the target is 2. (-1 + 2 + 1 = 2)."
      ],
      "metadata": {
        "id": "pphgFUYZnbY4"
      }
    },
    {
      "cell_type": "code",
      "execution_count": 1,
      "metadata": {
        "colab": {
          "base_uri": "https://localhost:8080/"
        },
        "id": "RE4cK6DznXdl",
        "outputId": "981fe5a7-22a3-4739-d5f7-9928151388bd"
      },
      "outputs": [
        {
          "output_type": "stream",
          "name": "stdout",
          "text": [
            "2\n"
          ]
        }
      ],
      "source": [
        "def threeSumClosest(nums, target):\n",
        "    nums.sort()  # Sort the array in ascending order\n",
        "    n = len(nums)\n",
        "    closest_sum = float('inf')  # Initialize closest_sum to a large value\n",
        "\n",
        "    for i in range(n - 2):\n",
        "        left = i + 1\n",
        "        right = n - 1\n",
        "\n",
        "        while left < right:\n",
        "            current_sum = nums[i] + nums[left] + nums[right]\n",
        "\n",
        "            if current_sum == target:\n",
        "                return target\n",
        "\n",
        "            if abs(current_sum - target) < abs(closest_sum - target):\n",
        "                closest_sum = current_sum\n",
        "\n",
        "            if current_sum > target:\n",
        "                right -= 1\n",
        "            else:\n",
        "                left += 1\n",
        "\n",
        "    return closest_sum\n",
        "\n",
        "# Test the function with the given example\n",
        "nums = [-1, 2, 1, -4]\n",
        "target = 1\n",
        "result = threeSumClosest(nums, target)\n",
        "print(result)  # Output: 2\n"
      ]
    },
    {
      "cell_type": "markdown",
      "source": [
        "Question 2\n",
        "Given an array nums of n integers, return an array of all the unique quadruplets\n",
        "[nums[a], nums[b], nums[c], nums[d]] such that:\n",
        "           ● 0 <= a, b, c, d < n\n",
        "           ● a, b, c, and d are distinct.\n",
        "           ● nums[a] + nums[b] + nums[c] + nums[d] == target\n",
        "\n",
        "You may return the answer in any order.\n",
        "\n",
        "Example 1:\n",
        "Input: nums = [1,0,-1,0,-2,2], target = 0\n",
        "Output: [[-2,-1,1,2],[-2,0,0,2],[-1,0,0,1]]"
      ],
      "metadata": {
        "id": "OVZhhxnGnoi4"
      }
    },
    {
      "cell_type": "code",
      "source": [
        "def fourSum(nums, target):\n",
        "    nums.sort()  # Sort the array in ascending order\n",
        "    n = len(nums)\n",
        "    result = []\n",
        "\n",
        "    for i in range(n - 3):\n",
        "        if i > 0 and nums[i] == nums[i - 1]:\n",
        "            continue\n",
        "\n",
        "        for j in range(i + 1, n - 2):\n",
        "            if j > i + 1 and nums[j] == nums[j - 1]:\n",
        "                continue\n",
        "\n",
        "            left = j + 1\n",
        "            right = n - 1\n",
        "\n",
        "            while left < right:\n",
        "                current_sum = nums[i] + nums[j] + nums[left] + nums[right]\n",
        "\n",
        "                if current_sum == target:\n",
        "                    result.append([nums[i], nums[j], nums[left], nums[right]])\n",
        "\n",
        "                    while left < right and nums[left] == nums[left + 1]:\n",
        "                        left += 1\n",
        "                    while left < right and nums[right] == nums[right - 1]:\n",
        "                        right -= 1\n",
        "\n",
        "                    left += 1\n",
        "                    right -= 1\n",
        "\n",
        "                elif current_sum > target:\n",
        "                    right -= 1\n",
        "                else:\n",
        "                    left += 1\n",
        "\n",
        "    return result\n",
        "\n",
        "# Test the function with the given example\n",
        "nums = [1, 0, -1, 0, -2, 2]\n",
        "target = 0\n",
        "result = fourSum(nums, target)\n",
        "print(result)  # Output: [[-2, -1, 1, 2], [-2, 0, 0, 2], [-1, 0, 0, 1]]\n"
      ],
      "metadata": {
        "colab": {
          "base_uri": "https://localhost:8080/"
        },
        "id": "bzPb6JPHnrXg",
        "outputId": "1a16d79a-5035-4916-debd-6b3bed33212f"
      },
      "execution_count": 3,
      "outputs": [
        {
          "output_type": "stream",
          "name": "stdout",
          "text": [
            "[[-2, -1, 1, 2], [-2, 0, 0, 2], [-1, 0, 0, 1]]\n"
          ]
        }
      ]
    },
    {
      "cell_type": "markdown",
      "source": [
        "<aside>\n",
        "💡 **Question 3**\n",
        "A permutation of an array of integers is an arrangement of its members into a\n",
        "sequence or linear order.\n",
        "\n",
        "For example, for arr = [1,2,3], the following are all the permutations of arr:\n",
        "[1,2,3], [1,3,2], [2, 1, 3], [2, 3, 1], [3,1,2], [3,2,1].\n",
        "\n",
        "The next permutation of an array of integers is the next lexicographically greater\n",
        "permutation of its integer. More formally, if all the permutations of the array are\n",
        "sorted in one container according to their lexicographical order, then the next\n",
        "permutation of that array is the permutation that follows it in the sorted container.\n",
        "\n",
        "If such an arrangement is not possible, the array must be rearranged as the\n",
        "lowest possible order (i.e., sorted in ascending order).\n",
        "\n",
        "● For example, the next permutation of arr = [1,2,3] is [1,3,2].\n",
        "● Similarly, the next permutation of arr = [2,3,1] is [3,1,2].\n",
        "● While the next permutation of arr = [3,2,1] is [1,2,3] because [3,2,1] does not\n",
        "have a lexicographical larger rearrangement.\n",
        "\n",
        "Given an array of integers nums, find the next permutation of nums.\n",
        "The replacement must be in place and use only constant extra memory.\n",
        "\n",
        "**Example 1:**\n",
        "Input: nums = [1,2,3]\n",
        "Output: [1,3,2]\n",
        "\n",
        "</aside>"
      ],
      "metadata": {
        "id": "h1FloICUn_9n"
      }
    },
    {
      "cell_type": "code",
      "source": [
        "def nextPermutation(nums):\n",
        "    n = len(nums)\n",
        "    \n",
        "    # Find the first pair from the right where nums[i] < nums[i+1]\n",
        "    i = n - 2\n",
        "    while i >= 0 and nums[i] >= nums[i+1]:\n",
        "        i -= 1\n",
        "    \n",
        "    if i >= 0:\n",
        "        # Find the smallest element in the subarray nums[i+1:] that is greater than nums[i]\n",
        "        j = n - 1\n",
        "        while j > i and nums[j] <= nums[i]:\n",
        "            j -= 1\n",
        "        \n",
        "        # Swap nums[i] and nums[j]\n",
        "        nums[i], nums[j] = nums[j], nums[i]\n",
        "    \n",
        "    # Reverse the subarray nums[i+1:]\n",
        "    left = i + 1\n",
        "    right = n - 1\n",
        "    while left < right:\n",
        "        nums[left], nums[right] = nums[right], nums[left]\n",
        "        left += 1\n",
        "        right -= 1\n",
        "\n",
        "# Test the function with the given example\n",
        "nums = [1, 2, 3]\n",
        "nextPermutation(nums)\n",
        "print(nums)  # Output: [1, 3, 2]\n"
      ],
      "metadata": {
        "colab": {
          "base_uri": "https://localhost:8080/"
        },
        "id": "nySZUgWWn_iH",
        "outputId": "07eb1550-eaa2-4afe-ca61-9592bf9cafc1"
      },
      "execution_count": 4,
      "outputs": [
        {
          "output_type": "stream",
          "name": "stdout",
          "text": [
            "[1, 3, 2]\n"
          ]
        }
      ]
    },
    {
      "cell_type": "markdown",
      "source": [
        "Question 4\n",
        "Given a sorted array of distinct integers and a target value, return the index if the\n",
        "target is found. If not, return the index where it would be if it were inserted in\n",
        "order.\n",
        "\n",
        "You must write an algorithm with O(log n) runtime complexity.\n",
        "\n",
        "Example 1:\n",
        "Input: nums = [1,3,5,6], target = 5\n",
        "Output: 2"
      ],
      "metadata": {
        "id": "X5iUR7BCoMj-"
      }
    },
    {
      "cell_type": "code",
      "source": [
        "def searchInsert(nums, target):\n",
        "    left = 0\n",
        "    right = len(nums) - 1\n",
        "    \n",
        "    while left <= right:\n",
        "        mid = (left + right) // 2\n",
        "        if nums[mid] == target:\n",
        "            return mid\n",
        "        elif nums[mid] < target:\n",
        "            left = mid + 1\n",
        "        else:\n",
        "            right = mid - 1\n",
        "    \n",
        "    return left\n",
        "\n",
        "# Test the function with the given example\n",
        "nums = [1, 3, 5, 6]\n",
        "target = 5\n",
        "result = searchInsert(nums, target)\n",
        "print(result)  # Output: 2\n"
      ],
      "metadata": {
        "colab": {
          "base_uri": "https://localhost:8080/"
        },
        "id": "e8xcQ8j9oMV3",
        "outputId": "e82189e5-603a-4071-a409-46479a249de1"
      },
      "execution_count": 5,
      "outputs": [
        {
          "output_type": "stream",
          "name": "stdout",
          "text": [
            "2\n"
          ]
        }
      ]
    },
    {
      "cell_type": "markdown",
      "source": [
        "<aside>\n",
        "💡 **Question 5**\n",
        "You are given a large integer represented as an integer array digits, where each\n",
        "digits[i] is the ith digit of the integer. The digits are ordered from most significant\n",
        "to least significant in left-to-right order. The large integer does not contain any\n",
        "leading 0's.\n",
        "\n",
        "Increment the large integer by one and return the resulting array of digits.\n",
        "\n",
        "**Example 1:**\n",
        "Input: digits = [1,2,3]\n",
        "Output: [1,2,4]\n",
        "\n",
        "**Explanation:** The array represents the integer 123.\n",
        "Incrementing by one gives 123 + 1 = 124.\n",
        "Thus, the result should be [1,2,4].\n",
        "\n",
        "</aside>"
      ],
      "metadata": {
        "id": "6bZsAMfRoUT3"
      }
    },
    {
      "cell_type": "code",
      "source": [
        "def plusOne(digits):\n",
        "    carry = 1\n",
        "    for i in range(len(digits) - 1, -1, -1):\n",
        "        digits[i] += carry\n",
        "        carry = digits[i] // 10\n",
        "        digits[i] %= 10\n",
        "    \n",
        "    if carry:\n",
        "        digits.insert(0, carry)\n",
        "    \n",
        "    return digits\n",
        "\n",
        "# Test the function with the given example\n",
        "digits = [1, 2, 3]\n",
        "result = plusOne(digits)\n",
        "print(result)  # Output: [1, 2, 4]\n"
      ],
      "metadata": {
        "colab": {
          "base_uri": "https://localhost:8080/"
        },
        "id": "79ugEyomoXdm",
        "outputId": "df4204c2-7580-4fa0-c9d6-dca7ac9051c3"
      },
      "execution_count": 6,
      "outputs": [
        {
          "output_type": "stream",
          "name": "stdout",
          "text": [
            "[1, 2, 4]\n"
          ]
        }
      ]
    },
    {
      "cell_type": "markdown",
      "source": [
        "Question 6\n",
        "Given a non-empty array of integers nums, every element appears twice except\n",
        "for one. Find that single one.\n",
        "\n",
        "You must implement a solution with a linear runtime complexity and use only\n",
        "constant extra space.\n",
        "\n",
        "Example 1:\n",
        "Input: nums = [2,2,1]\n",
        "Output: 1"
      ],
      "metadata": {
        "id": "_CsyVAMQqLxE"
      }
    },
    {
      "cell_type": "code",
      "source": [
        "def singleNumber(nums):\n",
        "    result = 0\n",
        "    for num in nums:\n",
        "        result ^= num\n",
        "    return result\n",
        "\n",
        "# Test the function with the given example\n",
        "nums = [2, 2, 1]\n",
        "result = singleNumber(nums)\n",
        "print(result)  # Output: 1\n"
      ],
      "metadata": {
        "colab": {
          "base_uri": "https://localhost:8080/"
        },
        "id": "-eJP0mj4qLgM",
        "outputId": "42e3b4d5-7302-4d8f-959b-06453e207c6b"
      },
      "execution_count": 7,
      "outputs": [
        {
          "output_type": "stream",
          "name": "stdout",
          "text": [
            "1\n"
          ]
        }
      ]
    },
    {
      "cell_type": "markdown",
      "source": [
        "Question 7\n",
        "You are given an inclusive range [lower, upper] and a sorted unique integer array\n",
        "nums, where all elements are within the inclusive range.\n",
        "\n",
        "A number x is considered missing if x is in the range [lower, upper] and x is not in\n",
        "nums.\n",
        "\n",
        "Return the shortest sorted list of ranges that exactly covers all the missing\n",
        "numbers. That is, no element of nums is included in any of the ranges, and each\n",
        "missing number is covered by one of the ranges.\n",
        "\n",
        "Example 1:\n",
        "Input: nums = [0,1,3,50,75], lower = 0, upper = 99\n",
        "Output: [[2,2],[4,49],[51,74],[76,99]]\n",
        "\n",
        "Explanation: The ranges are:\n",
        "[2,2]\n",
        "[4,49]\n",
        "[51,74]\n",
        "[76,99]"
      ],
      "metadata": {
        "id": "IU1m2P7DqZBM"
      }
    },
    {
      "cell_type": "code",
      "source": [
        "def findMissingRanges(nums, lower, upper):\n",
        "    result = []\n",
        "    prev = lower - 1\n",
        "\n",
        "    for num in nums:\n",
        "        if num > prev + 1:\n",
        "            result.append(getRange(prev + 1, num - 1))\n",
        "        prev = num\n",
        "\n",
        "    if prev < upper:\n",
        "        result.append(getRange(prev + 1, upper))\n",
        "\n",
        "    return result\n",
        "\n",
        "def getRange(start, end):\n",
        "    if start == end:\n",
        "        return str(start)\n",
        "    else:\n",
        "        return str(start) + \"->\" + str(end)\n",
        "\n",
        "# Test the function with the given example\n",
        "nums = [0, 1, 3, 50, 75]\n",
        "lower = 0\n",
        "upper = 99\n",
        "result = findMissingRanges(nums, lower, upper)\n",
        "print(result)  # Output: [['2'], ['4->49'], ['51->74'], ['76->99']]\n"
      ],
      "metadata": {
        "colab": {
          "base_uri": "https://localhost:8080/"
        },
        "id": "CLn0qlVuqYTD",
        "outputId": "757c0209-301c-49a2-9e49-2e5168c1b493"
      },
      "execution_count": 8,
      "outputs": [
        {
          "output_type": "stream",
          "name": "stdout",
          "text": [
            "['2', '4->49', '51->74', '76->99']\n"
          ]
        }
      ]
    },
    {
      "cell_type": "markdown",
      "source": [
        "Question 8\n",
        "Given an array of meeting time intervals where intervals[i] = [starti, endi],\n",
        "determine if a person could attend all meetings.\n",
        "\n",
        "Example 1:\n",
        "Input: intervals = [[0,30],[5,10],[15,20]]\n",
        "Output: false"
      ],
      "metadata": {
        "id": "tBtbgprbqvdr"
      }
    },
    {
      "cell_type": "code",
      "source": [
        "def canAttendMeetings(intervals):\n",
        "    # Sort the intervals based on the start time\n",
        "    intervals.sort(key=lambda x: x[0])\n",
        "\n",
        "    for i in range(1, len(intervals)):\n",
        "        # Check for overlap\n",
        "        if intervals[i][0] < intervals[i-1][1]:\n",
        "            return False\n",
        "\n",
        "    return True\n",
        "\n",
        "# Test the function with the given example\n",
        "intervals = [[0, 30], [5, 10], [15, 20]]\n",
        "result = canAttendMeetings(intervals)\n",
        "print(result)  # Output: False\n"
      ],
      "metadata": {
        "colab": {
          "base_uri": "https://localhost:8080/"
        },
        "id": "aCky-a88qu7L",
        "outputId": "fbb18173-631f-423b-cced-fe1c685bc603"
      },
      "execution_count": 9,
      "outputs": [
        {
          "output_type": "stream",
          "name": "stdout",
          "text": [
            "False\n"
          ]
        }
      ]
    }
  ]
}